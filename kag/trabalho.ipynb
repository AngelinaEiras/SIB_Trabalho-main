{
 "cells": [
  {
   "attachments": {},
   "cell_type": "markdown",
   "metadata": {},
   "source": [
    "Jupyter Notebook organizado em secções, que inclua os passos da análise realizada, e que explique muito sucintamente os procedimentos realizados e decisões tomadas ao longo da análise.\n",
    "\n",
    "B2. Kaggle - Novozymes enzyme stability prediction -\n",
    "https://www.kaggle.com/competitions/novozymes-enzyme-stability-prediction"
   ]
  },
  {
   "attachments": {},
   "cell_type": "markdown",
   "metadata": {},
   "source": [
    "__Fase 1:__\n",
    "\n",
    "__Exploração inicial e pré-processamento__\n",
    "- Rever toda a documentação disponível sobre o conjunto de dados.\n",
    "- Carregar o conjunto de dados e realizar uma análise exploratória do mesmo.\n",
    "- Realizar os passos necessários de preparação dos dados e pré-processamento, incluindo possivelmente a geração de atributos, a sua seleção, o tratamento de possíveis valores em falta, etc.\n",
    "\n",
    "Secção 1:\n",
    "- Descrever e caracterizar os dados atribuídos de acordo com a documentação/literatura existente;\n",
    "- Descrever sucintamente as características dos dados disponíveis a partir da análise exploratória inicial;\n",
    "- Descrever os passos de preparação dos dados e pré-processamento que efetuou, justificando as suas escolhas;\n",
    "- Incluir os gráficos exploratórios iniciais que ilustrem as principais características dos dados."
   ]
  },
  {
   "cell_type": "code",
   "execution_count": null,
   "metadata": {},
   "outputs": [],
   "source": []
  },
  {
   "attachments": {},
   "cell_type": "markdown",
   "metadata": {},
   "source": [
    "__Análise não supervisionada__\n",
    "- Usar as técnicas de redução de dimensionalidade adequadas aos seus dados;\n",
    "- Usar as técnicas de visualização de dados multivariadas adequadas aos seus dados;\n",
    "- Aplicar métodos de clustering que considere adequados aos seus dados.\n",
    "\n",
    "Secção 2:\n",
    "- Reportar/ analisar os resultados obtidos para as técnicas de redução de dimensionalidade e visualização de dados;\n",
    "- Reportar/ analisar os resultados obtidos a partir dos algoritmos de clustering."
   ]
  },
  {
   "cell_type": "code",
   "execution_count": null,
   "metadata": {},
   "outputs": [],
   "source": []
  },
  {
   "attachments": {},
   "cell_type": "markdown",
   "metadata": {},
   "source": [
    "__Aprendizagem máquina__\n",
    "- Comparar o comportamento de diversos modelos/ algoritmos de Aprendizagem Máquina no conjunto de dados. \n",
    "    - Deverá analisar o comportamento dos algoritmos calculando métricas de erro apropriadas e usando métodos de estimação do erro adequado. \n",
    "    - Deverá ainda apresentar o melhor modelo a que consiga chegar para os dados disponíveis, usando todos os exemplos, interpretando-o quando tal for possível.\n",
    "\n",
    "Secção 3: reportar e analisar criticamente os resultados da etapa 3."
   ]
  },
  {
   "cell_type": "code",
   "execution_count": null,
   "metadata": {},
   "outputs": [],
   "source": []
  },
  {
   "attachments": {},
   "cell_type": "markdown",
   "metadata": {},
   "source": [
    "__Fase 2__\n",
    "\n",
    "__Deep learning__\n",
    "- Utilizar métodos de deep learning de forma semelhante à etapa 3, comparando os resultados com os métodos aí   apresentados.\n",
    "\n",
    "Secção 4: reportar e analisar criticamente os resultados da etapa 4."
   ]
  },
  {
   "cell_type": "code",
   "execution_count": null,
   "metadata": {},
   "outputs": [],
   "source": []
  },
  {
   "attachments": {},
   "cell_type": "markdown",
   "metadata": {},
   "source": [
    "ola e obrigada"
   ]
  }
 ],
 "metadata": {
  "kernelspec": {
   "display_name": "Python 3",
   "language": "python",
   "name": "python3"
  },
  "language_info": {
   "name": "python",
   "version": "3.8.10 (default, Nov 14 2022, 12:59:47) \n[GCC 9.4.0]"
  },
  "orig_nbformat": 4,
  "vscode": {
   "interpreter": {
    "hash": "916dbcbb3f70747c44a77c7bcd40155683ae19c65e1c03b4aa3499c5328201f1"
   }
  }
 },
 "nbformat": 4,
 "nbformat_minor": 2
}
